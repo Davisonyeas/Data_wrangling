{
 "cells": [
  {
   "cell_type": "markdown",
   "id": "d4946562",
   "metadata": {},
   "source": [
    "## WeRateDogs wrangle_report"
   ]
  },
  {
   "cell_type": "markdown",
   "id": "21078552",
   "metadata": {},
   "source": [
    "This report describes the wrangling processes done for the WeRateDogs project, the datasets were cleaned and made ready for analysis."
   ]
  },
  {
   "cell_type": "markdown",
   "id": "0a4435fc",
   "metadata": {},
   "source": [
    "After cleaning the dataset, I was able to analyze and visualize insights as shown below"
   ]
  },
  {
   "cell_type": "markdown",
   "id": "c21afb6f",
   "metadata": {},
   "source": [
    "### Insights"
   ]
  },
  {
   "cell_type": "markdown",
   "id": "9115b7e7",
   "metadata": {},
   "source": [
    "1. What is the most common dog breed?\n",
    "\n",
    "    ANSWER = golden_retriever\n",
    "    \n",
    "\n",
    "2. What is the most common dog stage?\n",
    "\n",
    "    ANSWER = pupper\n",
    "    \n",
    "\n",
    "3. What dog stage has the highest average retweet_count?\n",
    "\n",
    "    ANSWER = puppo\n",
    "    \n",
    "\n",
    "4. What are the most common dog names?\n",
    "\n",
    "    ANSWER = Lucy\n",
    "    \n",
    "\n",
    "5. What are the most common tweet sources?\n",
    "\n",
    "    ANSWER = Twitter for iPhone\n",
    "    \n",
    "\n",
    "6. Who are the top 5 favorite golden retrievers?\n",
    "\n",
    "    ANSWER = Zoey, Barney, Bella, Alfy, dog id - 795464331001561088\n",
    "    \n",
    "\n",
    "7. what is the correlation between retweet and favorite count?\n",
    "\n",
    "        ANSWER = 0.9143525"
   ]
  },
  {
   "cell_type": "code",
   "execution_count": null,
   "id": "48a8aa27",
   "metadata": {},
   "outputs": [],
   "source": []
  }
 ],
 "metadata": {
  "kernelspec": {
   "display_name": "Python 3 (ipykernel)",
   "language": "python",
   "name": "python3"
  },
  "language_info": {
   "codemirror_mode": {
    "name": "ipython",
    "version": 3
   },
   "file_extension": ".py",
   "mimetype": "text/x-python",
   "name": "python",
   "nbconvert_exporter": "python",
   "pygments_lexer": "ipython3",
   "version": "3.9.12"
  }
 },
 "nbformat": 4,
 "nbformat_minor": 5
}
