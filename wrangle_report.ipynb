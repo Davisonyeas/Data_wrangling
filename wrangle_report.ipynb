{
 "cells": [
  {
   "cell_type": "markdown",
   "id": "0b07df92",
   "metadata": {},
   "source": [
    "## WeRateDogs wrangle_report"
   ]
  },
  {
   "cell_type": "markdown",
   "id": "2145babe",
   "metadata": {},
   "source": [
    "This report describes the wrangling processes done for the WeRateDogs project, the datasets were cleaned and made ready for analysis."
   ]
  },
  {
   "cell_type": "markdown",
   "id": "6e5ca861",
   "metadata": {},
   "source": [
    "Data Wrangling: It refers to a variety of processes designed to transform raw data into more readily used formats. The exact methods differ from project to project depending on the data you're leveraging and the goal you're trying to achieve."
   ]
  },
  {
   "cell_type": "markdown",
   "id": "a45d4692",
   "metadata": {},
   "source": [
    "Data Wrangling consists of :\n",
    "\n",
    "1. Data Gathering\n",
    "\n",
    "2. Data Assessing\n",
    "\n",
    "3. Data Cleaning"
   ]
  },
  {
   "cell_type": "markdown",
   "id": "e70856e0",
   "metadata": {},
   "source": [
    "### Data Gathering\n",
    "\n",
    "It is the systematic process of gathering observations or measurements in research. It can be qualitative or quantitative."
   ]
  },
  {
   "cell_type": "markdown",
   "id": "294dd171",
   "metadata": {},
   "source": [
    "Steps\n",
    "\n",
    "- I imported all the python libraries that are necessary for this project.\n",
    "- I used pandas to read twitter_archive_enhance.csv file into a dataframe called twitter_arch\n",
    "- I made use of Requests library to download the tweet image_prediction.tsv file and load into a dataframe called image_pred\n",
    "- I used pandas to read the tweet_Json.txt file line by line into a dataframe with tweet_id, retweet_count and favorite_count"
   ]
  },
  {
   "cell_type": "markdown",
   "id": "7926a629",
   "metadata": {},
   "source": [
    "### Data Assessing\n",
    "\n",
    "It is the process of evaluating (statistically or other methods) data in order to determine whether they meet the quality required for projects  and are of the right type and quantity to be able to actually support their intended use."
   ]
  },
  {
   "cell_type": "markdown",
   "id": "5d9a8788",
   "metadata": {},
   "source": [
    "I made use of both visual assessment and programmatic assessement to assess the data for quality and tidiness issue. I carefully looked through the 3 datasets and documented issues to be resolved.I made use of pandas methods such as info(), describe() and others to programmatically assess the datasets. The quality and tidyness issues found are:"
   ]
  },
  {
   "cell_type": "markdown",
   "id": "8192c559",
   "metadata": {},
   "source": [
    "#### QUALITY ISSUES\n",
    "        * twitter-archive\n",
    "            1. timestamp column is an object(i.e string) instead of datetime format. \n",
    "\n",
    "            2. In several columns null objects are represented as 'None' instead of NaN. \n",
    "\n",
    "            3. Dog Name column have invalid names i.e 'None', 'such', 'the 'a', 'an' etc. \n",
    "\n",
    "            4. Some rows have several identical values in the expanded_url column. \n",
    "\n",
    "            5. These columns type (in_reply_to_status_id, in_reply_to_user_id, retweeted_status_id,                                       retweeted_status_user_id and tweet_id) is float instead of string (to prevent operations happening on                  them).\n",
    "\n",
    "        ** image_pred.tsv\n",
    "            1. Tweet_id fields in the three datasets are stored as int values and should be strings. \n",
    "\n",
    "            2. Missing values from images dataset (2075 rows instead of 2356). (This was resolved at the end of the                  data wrangling)\n",
    "\n",
    "            3. Some tweet_ids have the same jpg_url.\n",
    "        \n",
    "        *** twitter_json\n",
    "            1. Create_date column is an object instead of datetime. \n",
    "  \n",
    "\n",
    "#### TIDINESS ISSUES\n",
    "\n",
    "        * twitter-archive.csv\n",
    "            1. Dog stages (doggo, floofer, pupper, puppo) are spread in different columns. \n",
    "\n",
    "            2. We are only interested in “original tweets”, no “retweets”; the retweet data is in columns like retweeted_status_id, retweeted_status_user_id and retweeted_status_timestamp. \n",
    "\n",
    "            3. Reply tweets are not “original tweets” either; this data is stored in the columns in_reply_to_status_id and in_reply_to_user_id. \n",
    "\n",
    "        ** image-pred.tsv\n",
    "            1. Breed Predictions, Confidence intervals and Dog tests are spread in three columns. \n",
    "\n",
    "        *** twitter_json\n",
    "            1. Create_date exists already in twitter-archive-enhanced.tsv. \n",
    "\n",
    "            2. All columns can be merged into 1 using tweet_id. "
   ]
  },
  {
   "cell_type": "markdown",
   "id": "06811c40",
   "metadata": {},
   "source": [
    "### Data Cleaning\n",
    "\n",
    "\n",
    "It is the process of detecting and correcting (or removing) corrupt or inaccurate records from a dataset."
   ]
  },
  {
   "cell_type": "markdown",
   "id": "efcedc85",
   "metadata": {},
   "source": [
    "All the issues documented while assessing were cleaned using the define, code and test steps. I made clean copies for each dataframe before cleaning. At the end, all the dataframes were merged into one and further cleaned. the final dataframe was saved as a csv. I didn't spot all the quality and tidiness assessments at the assessing data section, so I was iterating and revisiting assessing to add these assessments to my notes."
   ]
  },
  {
   "cell_type": "markdown",
   "id": "26a45920",
   "metadata": {},
   "source": [
    "### Conclusion\n",
    "\n",
    "\n",
    "Data Wrangling is a very important part of any data project. Data wrangling is important because it saves costs, improves business intelligence, and enhances business insights."
   ]
  },
  {
   "cell_type": "markdown",
   "id": "b197e21d",
   "metadata": {},
   "source": [
    "### References\n"
   ]
  },
  {
   "cell_type": "markdown",
   "id": "5dd928f6",
   "metadata": {},
   "source": [
    "- Youtube [video](https://youtu.be/_vRHGRWi9_U) to know the difference between doggo, floofer, pupper and puppo as stages of dogs\n",
    "\n",
    "- Doggo having nightmares youtube [video](https://youtu.be/WdIfjzreRnM) to know the difference between doggo, floofer, pupper and puppo as stages of dogs\n",
    "\n",
    "- I had to refernce stackoverflow for some help whenever I was stuck. For the wordcloud, I referenced  www.analyticsvidhya.com/blog/2021/08/creating-customized-word-cloud-in-python/\n"
   ]
  }
 ],
 "metadata": {
  "kernelspec": {
   "display_name": "Python 3 (ipykernel)",
   "language": "python",
   "name": "python3"
  },
  "language_info": {
   "codemirror_mode": {
    "name": "ipython",
    "version": 3
   },
   "file_extension": ".py",
   "mimetype": "text/x-python",
   "name": "python",
   "nbconvert_exporter": "python",
   "pygments_lexer": "ipython3",
   "version": "3.9.12"
  }
 },
 "nbformat": 4,
 "nbformat_minor": 5
}
